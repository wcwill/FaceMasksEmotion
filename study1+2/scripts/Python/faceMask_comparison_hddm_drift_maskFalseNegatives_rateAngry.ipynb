{
 "cells": [
  {
   "cell_type": "code",
   "execution_count": null,
   "metadata": {},
   "outputs": [],
   "source": [
    "# faceMask and faceMask2 hDDM face ratings analysis script: mask analyses of false negatives (failing to ID correct emotion)\n",
    "# 22/03/21\n",
    "\n",
    "# note: to be run within python 3.5 environment named \"hddm\" (from console: 'source activate hddm')\n",
    "# confirm jupyter notebook is launching from \"hddm\" environment (see top-right: 'conda env:hddm')\n",
    "\n",
    "# set up\n",
    "import numpy as np\n",
    "print(np.__version__) # should be 1.11.3\n",
    "\n",
    "import pandas as pd\n",
    "import matplotlib.pyplot as plt\n",
    "%matplotlib inline\n",
    "\n",
    "from patsy import dmatrix\n",
    "\n",
    "import hddm\n",
    "print(hddm.__version__) # should be 0.6.0"
   ]
  },
  {
   "cell_type": "code",
   "execution_count": null,
   "metadata": {},
   "outputs": [],
   "source": [
    "# load hDDM-processed data from CSV file into a NumPy structured array\n",
    "data1 = hddm.load_csv('faceMask_hddm_proc.csv')\n",
    "                     \n",
    "# flip 'no' response RTs to be negative\n",
    "data1 = hddm.utils.flip_errors(data1)\n",
    "\n",
    "# check dataset\n",
    "data1.head(10)"
   ]
  },
  {
   "cell_type": "code",
   "execution_count": null,
   "metadata": {},
   "outputs": [],
   "source": [
    "# plot RTs for each participant\n",
    "fig = plt.figure()\n",
    "ax = fig.add_subplot(111, xlabel='RT', ylabel='count', title='RT distributions')\n",
    "for i, subj_data in data1.groupby('subj_idx'):\n",
    "    subj_data.rt.hist(bins=20, histtype='step', ax=ax)"
   ]
  },
  {
   "cell_type": "code",
   "execution_count": null,
   "metadata": {},
   "outputs": [],
   "source": [
    "# subset dataset by emotion rating type (angry) and facial expression (angry)\n",
    "aa1_data = data1.loc[(data1['emotionRating'] == 'angry') & (data1['expression'] == 'angry')]\n",
    "aa1_data.head(10)"
   ]
  },
  {
   "cell_type": "code",
   "execution_count": null,
   "metadata": {},
   "outputs": [],
   "source": [
    "# drop any subjects missing columns in design matrix (otherwise produces error)\n",
    "aa1_data = aa1_data[(aa1_data.subj_idx != 'f89wrv54kh9lqrw')]"
   ]
  },
  {
   "cell_type": "code",
   "execution_count": null,
   "metadata": {},
   "outputs": [],
   "source": [
    "# define model\n",
    "m_aa1 = hddm.HDDMRegressor(aa1_data, \"v ~ C(mask)\", bias=True, p_outlier=0.05)"
   ]
  },
  {
   "cell_type": "code",
   "execution_count": null,
   "metadata": {},
   "outputs": [],
   "source": [
    "# run model\n",
    "m_aa1.sample(5000, burn=200, dbname='traces.db', db='pickle')\n",
    "m_aa1.print_stats()\n",
    "m_aa1.plot_posteriors()"
   ]
  },
  {
   "cell_type": "code",
   "execution_count": null,
   "metadata": {},
   "outputs": [],
   "source": [
    "# save model stats\n",
    "aa1_stats = m_aa1.gen_stats()\n",
    "print(aa1_stats)\n",
    "aa1_stats.to_csv('aa1_5000/faceMask_hddm_drift_maskFalseNegatives_aa1_5000.csv', index=True)\n",
    "\n",
    "# save model posterior plots\n",
    "m_aa1.plot_posteriors(path='aa1_5000/_posteriors', save=True)"
   ]
  },
  {
   "cell_type": "code",
   "execution_count": null,
   "metadata": {},
   "outputs": [],
   "source": [
    "# plot model posteriors by mask\n",
    "aa1_v_none, aa1_v_lower, aa1_v_upper = m_aa1.nodes_db.node[[\"v_Intercept\", \"v_C(mask)[T.lower]\", \"v_C(mask)[T.upper]\"]]\n",
    "hddm.analyze.plot_posterior_nodes([aa1_v_none, aa1_v_lower, aa1_v_upper])\n",
    "plt.savefig('aa1_5000/faceMask_hddm_drift_maskFalsePositives_aa1_5000_v_mask.pdf')"
   ]
  },
  {
   "cell_type": "code",
   "execution_count": null,
   "metadata": {},
   "outputs": [],
   "source": [
    "## estimate probabilities that mask coefficient posteriors differ from 0\n",
    "# note that comparison condition coefficients (i.e. lower/upper) are *relative to* baseline condition (i.e. no mask)\n",
    "# for lower/upper, =0 means no change from baseline, <0 means less than baseline, and >0 means greater than baseline\n",
    "# for no mask, =0 means null drift, <0 means negative drift, and >0 means positive drift\n",
    "print(\"P(aa1_v_none > 0) = \", (aa1_v_none.trace() > 0).mean())\n",
    "print(\"P(aa1_v_lower < 0) = \", (aa1_v_lower.trace() < 0).mean())\n",
    "print(\"P(aa1_v_upper > 0) = \", (aa1_v_upper.trace() > 0).mean())\n",
    "# estimate probability that lower and upper mask coefficient posteriors differ\n",
    "print(\"P(aa1_v_lower < aa1_v_upper) = \", (aa1_v_lower.trace() < aa1_v_upper.trace()).mean())"
   ]
  },
  {
   "cell_type": "code",
   "execution_count": null,
   "metadata": {},
   "outputs": [],
   "source": []
  },
  {
   "cell_type": "code",
   "execution_count": null,
   "metadata": {},
   "outputs": [],
   "source": [
    "# load hDDM-processed data from CSV file into a NumPy structured array\n",
    "data2 = hddm.load_csv('faceMask2_hddm_proc.csv')\n",
    "                     \n",
    "# flip 'no' response RTs to be negative\n",
    "data2 = hddm.utils.flip_errors(data2)\n",
    "\n",
    "# check dataset\n",
    "data2.head(10)"
   ]
  },
  {
   "cell_type": "code",
   "execution_count": null,
   "metadata": {},
   "outputs": [],
   "source": [
    "# plot RTs for each participant\n",
    "fig = plt.figure()\n",
    "ax = fig.add_subplot(111, xlabel='RT', ylabel='count', title='RT distributions')\n",
    "for i, subj_data in data2.groupby('subj_idx'):\n",
    "    subj_data.rt.hist(bins=20, histtype='step', ax=ax)"
   ]
  },
  {
   "cell_type": "code",
   "execution_count": null,
   "metadata": {},
   "outputs": [],
   "source": [
    "# subset dataset by emotion rating type (angry) and facial expression (angry)\n",
    "aa2_data = data2.loc[(data2['emotionRating'] == 'angry') & (data2['expression'] == 'angry')]\n",
    "aa2_data.head(10)"
   ]
  },
  {
   "cell_type": "code",
   "execution_count": null,
   "metadata": {},
   "outputs": [],
   "source": [
    "# drop any subjects missing columns in design matrix (otherwise produces error)\n",
    "aa2_data = aa2_data[(aa2_data.subj_idx != 'bmlp46ta94pzt5x') & (aa2_data.subj_idx != 'dqph4ch0mkofejw') & (aa2_data.subj_idx != 'me8doxrmo9vj9dx')]"
   ]
  },
  {
   "cell_type": "code",
   "execution_count": null,
   "metadata": {},
   "outputs": [],
   "source": [
    "# define model\n",
    "m_aa2 = hddm.HDDMRegressor(aa2_data, \"v ~ C(mask)\", bias=True, p_outlier=0.05)"
   ]
  },
  {
   "cell_type": "code",
   "execution_count": null,
   "metadata": {},
   "outputs": [],
   "source": [
    "# run model\n",
    "m_aa2.sample(5000, burn=200, dbname='traces.db', db='pickle')\n",
    "m_aa2.print_stats()\n",
    "m_aa2.plot_posteriors()"
   ]
  },
  {
   "cell_type": "code",
   "execution_count": null,
   "metadata": {},
   "outputs": [],
   "source": [
    "# save model stats\n",
    "aa2_stats = m_aa2.gen_stats()\n",
    "print(aa2_stats)\n",
    "aa2_stats.to_csv('aa2_5000/faceMask2_hddm_drift_maskFalseNegatives_aa2_5000.csv', index=True)\n",
    "\n",
    "# save model posterior plots\n",
    "m_aa2.plot_posteriors(path='aa2_5000/_posteriors', save=True)"
   ]
  },
  {
   "cell_type": "code",
   "execution_count": null,
   "metadata": {},
   "outputs": [],
   "source": [
    "# plot model posteriors by mask\n",
    "aa2_v_none, aa2_v_lower, aa2_v_upper = m_aa2.nodes_db.node[[\"v_Intercept\", \"v_C(mask)[T.lower]\", \"v_C(mask)[T.upper]\"]]\n",
    "hddm.analyze.plot_posterior_nodes([aa2_v_none, aa2_v_lower, aa2_v_upper])\n",
    "plt.savefig('aa2_5000/faceMask2_hddm_drift_maskFalsePositives_aa2_5000_v_mask.pdf')"
   ]
  },
  {
   "cell_type": "code",
   "execution_count": null,
   "metadata": {},
   "outputs": [],
   "source": [
    "## estimate probabilities that mask coefficient posteriors differ from 0\n",
    "# note that comparison condition coefficients (i.e. lower/upper) are *relative to* baseline condition (i.e. no mask)\n",
    "# for lower/upper, =0 means no change from baseline, <0 means less than baseline, and >0 means greater than baseline\n",
    "# for no mask, =0 means null drift, <0 means negative drift, and >0 means positive drift\n",
    "print(\"P(aa2_v_none < 0) = \", (aa2_v_none.trace() < 0).mean())\n",
    "print(\"P(aa2_v_lower > 0) = \", (aa2_v_lower.trace() > 0).mean())\n",
    "print(\"P(aa2_v_upper > 0) = \", (aa2_v_upper.trace() > 0).mean())\n",
    "# estimate probability that lower and upper mask coefficient posteriors differ\n",
    "print(\"P(aa2_v_lower < aa2_v_upper) = \", (aa2_v_lower.trace() < aa2_v_upper.trace()).mean())"
   ]
  },
  {
   "cell_type": "code",
   "execution_count": null,
   "metadata": {},
   "outputs": [],
   "source": [
    "## estimate probabilities that mask coefficient posteriors differ from each other (faceMask 1 vs. faceMask2)\n",
    "# note that comparison condition coefficients (i.e. lower/upper) are *relative to* baseline condition (i.e. no mask)\n",
    "# for lower/upper, =0 means no change from baseline, <0 means less than baseline, and >0 means greater than baseline\n",
    "# for no mask, =0 means null drift, <0 means negative drift, and >0 means positive drift\n",
    "print(\"P(aa1_v_none > aa2_v_none) = \", ((aa1_v_none.trace() > aa2_v_none.trace()).mean()))\n",
    "print(\"P(aa1_v_lower < aa2_v_lower) = \", ((aa1_v_lower.trace() < aa2_v_lower.trace()).mean()))\n",
    "print(\"P(aa1_v_upper < aa2_v_upper) = \", ((aa1_v_upper.trace() < aa2_v_upper.trace()).mean()))\n"
   ]
  },
  {
   "cell_type": "code",
   "execution_count": null,
   "metadata": {},
   "outputs": [],
   "source": [
    "## adding together the relative values:\n",
    "aa1_v_none_plus_lower = aa1_v_none.trace() + aa1_v_lower.trace()\n",
    "aa1_v_none_plus_upper = aa1_v_none.trace() + aa1_v_upper.trace()\n",
    "aa2_v_none_plus_lower = aa2_v_none.trace() + aa2_v_lower.trace()\n",
    "aa2_v_none_plus_upper = aa2_v_none.trace() + aa2_v_upper.trace()"
   ]
  },
  {
   "cell_type": "code",
   "execution_count": null,
   "metadata": {},
   "outputs": [],
   "source": [
    "print(\"P(aa1_v_none_plus_lower > aa2_v_none_plus_lower) = \", (aa1_v_none_plus_lower > aa2_v_none_plus_lower).mean())\n",
    "print(\"P(aa1_v_none_plus_upper > aa2_v_none_plus_upper) = \", (aa1_v_none_plus_upper > aa2_v_none_plus_upper).mean())"
   ]
  },
  {
   "cell_type": "code",
   "execution_count": null,
   "metadata": {},
   "outputs": [],
   "source": []
  }
 ],
 "metadata": {
  "anaconda-cloud": {},
  "kernelspec": {
   "display_name": "Python [conda root]",
   "language": "python",
   "name": "conda-root-py"
  },
  "language_info": {
   "codemirror_mode": {
    "name": "ipython",
    "version": 3
   },
   "file_extension": ".py",
   "mimetype": "text/x-python",
   "name": "python",
   "nbconvert_exporter": "python",
   "pygments_lexer": "ipython3",
   "version": "3.7.0"
  }
 },
 "nbformat": 4,
 "nbformat_minor": 1
}
