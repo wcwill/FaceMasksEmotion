{
 "cells": [
  {
   "cell_type": "code",
   "execution_count": null,
   "metadata": {},
   "outputs": [],
   "source": [
    "# faceMask and faceMask2 hDDM face ratings analysis script: mask analyses of false negatives (failing to ID correct emotion)\n",
    "# 22/03/21\n",
    "\n",
    "# note: to be run within python 3.5 environment named \"hddm\" (from console: 'source activate hddm')\n",
    "# confirm jupyter notebook is launching from \"hddm\" environment (see top-right: 'conda env:hddm')\n",
    "\n",
    "# set up\n",
    "import numpy as np\n",
    "print(np.__version__) # should be 1.11.3\n",
    "\n",
    "import pandas as pd\n",
    "import matplotlib.pyplot as plt\n",
    "%matplotlib inline\n",
    "\n",
    "from patsy import dmatrix\n",
    "\n",
    "import hddm\n",
    "print(hddm.__version__) # should be 0.6.0"
   ]
  },
  {
   "cell_type": "code",
   "execution_count": null,
   "metadata": {},
   "outputs": [],
   "source": [
    "# load hDDM-processed data from CSV file into a NumPy structured array\n",
    "data1 = hddm.load_csv('faceMask_hddm_proc.csv')\n",
    "                     \n",
    "# flip 'no' response RTs to be negative\n",
    "data1 = hddm.utils.flip_errors(data1)\n",
    "\n",
    "# check dataset\n",
    "data1.head(10)"
   ]
  },
  {
   "cell_type": "code",
   "execution_count": null,
   "metadata": {},
   "outputs": [],
   "source": [
    "# plot RTs for each participant\n",
    "fig = plt.figure()\n",
    "ax = fig.add_subplot(111, xlabel='RT', ylabel='count', title='RT distributions')\n",
    "for i, subj_data in data1.groupby('subj_idx'):\n",
    "    subj_data.rt.hist(bins=20, histtype='step', ax=ax)"
   ]
  },
  {
   "cell_type": "code",
   "execution_count": null,
   "metadata": {},
   "outputs": [],
   "source": [
    "# subset dataset by emotion rating type (disgusted) and facial expression (angry)\n",
    "dd1_data = data1.loc[(data1['emotionRating'] == 'disgusted') & (data1['expression'] == 'disgusted')]\n",
    "dd1_data.head(10)"
   ]
  },
  {
   "cell_type": "code",
   "execution_count": null,
   "metadata": {},
   "outputs": [],
   "source": [
    "# drop any subjects missing columns in design matrix (otherwise produces error)\n",
    "dd1_data = dd1_data[(dd1_data.subj_idx != 'ygpcur698h4dcw5') & (dd1_data.subj_idx != 'xb95r55zxl5xgqr')]"
   ]
  },
  {
   "cell_type": "code",
   "execution_count": null,
   "metadata": {},
   "outputs": [],
   "source": [
    "# define model\n",
    "m_dd1 = hddm.HDDMRegressor(dd1_data, \"v ~ C(mask)\", bias=True, p_outlier=0.05)"
   ]
  },
  {
   "cell_type": "code",
   "execution_count": null,
   "metadata": {},
   "outputs": [],
   "source": [
    "# run model\n",
    "m_dd1.sample(5000, burn=200, dbname='traces.db', db='pickle')\n",
    "m_dd1.save('hddm_dd1')"
   ]
  },
  {
   "cell_type": "code",
   "execution_count": null,
   "metadata": {},
   "outputs": [],
   "source": [
    "m_dd1.print_stats()\n",
    "m_dd1.plot_posteriors()"
   ]
  },
  {
   "cell_type": "code",
   "execution_count": null,
   "metadata": {},
   "outputs": [],
   "source": [
    "# save model stats\n",
    "dd1_stats = m_dd1.gen_stats()\n",
    "print(dd1_stats)\n",
    "dd1_stats.to_csv('dd1_5000/faceMask_hddm_drift_maskFalseNegatives_dd1_5000.csv', index=True)\n",
    "\n",
    "# save model posterior plots\n",
    "m_dd1.plot_posteriors(path='dd1_5000/_posteriors', save=True)"
   ]
  },
  {
   "cell_type": "code",
   "execution_count": null,
   "metadata": {},
   "outputs": [],
   "source": [
    "# plot model posteriors by mask\n",
    "dd1_v_none, dd1_v_lower, dd1_v_upper = m_dd1.nodes_db.node[[\"v_Intercept\", \"v_C(mask)[T.lower]\", \"v_C(mask)[T.upper]\"]]\n",
    "hddm.analyze.plot_posterior_nodes([dd1_v_none, dd1_v_lower, dd1_v_upper])\n",
    "plt.savefig('dd1_5000/faceMask_hddm_drift_maskFalsePositives_dd1_5000_v_mask.pdf')"
   ]
  },
  {
   "cell_type": "code",
   "execution_count": null,
   "metadata": {},
   "outputs": [],
   "source": [
    "## estimate probabilities that mask coefficient posteriors differ from 0\n",
    "# note that comparison condition coefficients (i.e. lower/upper) are *relative to* baseline condition (i.e. no mask)\n",
    "# for lower/upper, =0 means no change from baseline, <0 means less than baseline, and >0 means greater than baseline\n",
    "# for no mask, =0 means null drift, <0 means negative drift, and >0 means positive drift\n",
    "print(\"P(dd1_v_none < 0) = \", (dd1_v_none.trace() < 0).mean())\n",
    "print(\"P(dd1_v_lower > 0) = \", (dd1_v_lower.trace() > 0).mean())\n",
    "print(\"P(dd1_v_upper > 0) = \", (dd1_v_upper.trace() > 0).mean())\n",
    "# estimate probability that lower and upper mask coefficient posteriors differ\n",
    "print(\"P(dd1_v_lower > dd1_v_upper) = \", (dd1_v_lower.trace() > dd1_v_upper.trace()).mean())"
   ]
  },
  {
   "cell_type": "code",
   "execution_count": null,
   "metadata": {},
   "outputs": [],
   "source": []
  },
  {
   "cell_type": "code",
   "execution_count": null,
   "metadata": {},
   "outputs": [],
   "source": [
    "# load hDDM-processed data from CSV file into a NumPy structured array\n",
    "data2 = hddm.load_csv('faceMask2_hddm_proc.csv')\n",
    "                     \n",
    "# flip 'no' response RTs to be negative\n",
    "data2 = hddm.utils.flip_errors(data2)\n",
    "\n",
    "# check dataset\n",
    "data2.head(10)"
   ]
  },
  {
   "cell_type": "code",
   "execution_count": null,
   "metadata": {},
   "outputs": [],
   "source": [
    "# plot RTs for each participant\n",
    "fig = plt.figure()\n",
    "ax = fig.add_subplot(111, xlabel='RT', ylabel='count', title='RT distributions')\n",
    "for i, subj_data in data2.groupby('subj_idx'):\n",
    "    subj_data.rt.hist(bins=20, histtype='step', ax=ax)"
   ]
  },
  {
   "cell_type": "code",
   "execution_count": null,
   "metadata": {},
   "outputs": [],
   "source": [
    "# subset dataset by emotion rating type (disgusted) and facial expression (angry)\n",
    "dd2_data = data2.loc[(data2['emotionRating'] == 'disgusted') & (data2['expression'] == 'disgusted')]\n",
    "dd2_data.head(10)"
   ]
  },
  {
   "cell_type": "code",
   "execution_count": null,
   "metadata": {},
   "outputs": [],
   "source": [
    "# drop any subjects missing columns in design matrix (otherwise produces error)\n",
    "dd2_data = dd2_data[(dd2_data.subj_idx != 'hdn2l3df216jykn')]"
   ]
  },
  {
   "cell_type": "code",
   "execution_count": null,
   "metadata": {},
   "outputs": [],
   "source": [
    "# define model\n",
    "m_dd2 = hddm.HDDMRegressor(dd2_data, \"v ~ C(mask)\", bias=True, p_outlier=0.05)"
   ]
  },
  {
   "cell_type": "code",
   "execution_count": null,
   "metadata": {},
   "outputs": [],
   "source": [
    "# run model\n",
    "m_dd2.sample(5000, burn=200, dbname='traces.db', db='pickle')\n",
    "m_dd2.print_stats()\n",
    "m_dd2.plot_posteriors()"
   ]
  },
  {
   "cell_type": "code",
   "execution_count": null,
   "metadata": {},
   "outputs": [],
   "source": [
    "# save model stats\n",
    "dd2_stats = m_dd2.gen_stats()\n",
    "print(dd2_stats)\n",
    "dd2_stats.to_csv('dd2_5000/faceMask2_hddm_drift_maskFalseNegatives_dd2_5000.csv', index=True)\n",
    "\n",
    "# save model posterior plots\n",
    "m_dd2.plot_posteriors(path='dd2_5000/_posteriors', save=True)"
   ]
  },
  {
   "cell_type": "code",
   "execution_count": null,
   "metadata": {},
   "outputs": [],
   "source": [
    "# plot model posteriors by mask\n",
    "dd2_v_none, dd2_v_lower, dd2_v_upper = m_dd2.nodes_db.node[[\"v_Intercept\", \"v_C(mask)[T.lower]\", \"v_C(mask)[T.upper]\"]]\n",
    "hddm.analyze.plot_posterior_nodes([dd2_v_none, dd2_v_lower, dd2_v_upper])\n",
    "plt.savefig('dd2_5000/faceMask2_hddm_drift_maskFalsePositives_dd2_5000_v_mask.pdf')"
   ]
  },
  {
   "cell_type": "code",
   "execution_count": null,
   "metadata": {},
   "outputs": [],
   "source": [
    "## estimate probabilities that mask coefficient posteriors differ from 0\n",
    "# note that comparison condition coefficients (i.e. lower/upper) are *relative to* baseline condition (i.e. no mask)\n",
    "# for lower/upper, =0 means no change from baseline, <0 means less than baseline, and >0 means greater than baseline\n",
    "# for no mask, =0 means null drift, <0 means negative drift, and >0 means positive drift\n",
    "print(\"P(dd2_v_none < 0) = \", (dd2_v_none.trace() < 0).mean())\n",
    "print(\"P(dd2_v_lower > 0) = \", (dd2_v_lower.trace() > 0).mean())\n",
    "print(\"P(dd2_v_upper > 0) = \", (dd2_v_upper.trace() > 0).mean())\n",
    "# estimate probability that lower and upper mask coefficient posteriors differ\n",
    "print(\"P(dd2_v_lower > dd2_v_upper) = \", (dd2_v_lower.trace() > dd2_v_upper.trace()).mean())"
   ]
  },
  {
   "cell_type": "code",
   "execution_count": null,
   "metadata": {},
   "outputs": [],
   "source": []
  },
  {
   "cell_type": "code",
   "execution_count": null,
   "metadata": {},
   "outputs": [],
   "source": [
    "## estimate probabilities that mask coefficient posteriors differ from each other (faceMask 1 vs. faceMask2)\n",
    "# note that comparison condition coefficients (i.e. lower/upper) are *relative to* baseline condition (i.e. no mask)\n",
    "# for lower/upper, =0 means no change from baseline, <0 means less than baseline, and >0 means greater than baseline\n",
    "# for no mask, =0 means null drift, <0 means negative drift, and >0 means positive drift\n",
    "print(\"P(dd1_v_none < dd2_v_none) = \", (dd1_v_none.trace() < dd2_v_none.trace()).mean())\n",
    "print(\"P(dd1_v_lower < dd2_v_lower) = \", (dd1_v_lower.trace() < dd2_v_lower.trace()).mean())\n",
    "print(\"P(dd1_v_upper < dd2_v_upper) = \", (dd1_v_upper.trace() < dd2_v_upper.trace()).mean())\n"
   ]
  },
  {
   "cell_type": "code",
   "execution_count": null,
   "metadata": {},
   "outputs": [],
   "source": [
    "## adding together the relative values:\n",
    "dd1_v_none_plus_lower = dd1_v_none.trace() + dd1_v_lower.trace()\n",
    "dd1_v_none_plus_upper = dd1_v_none.trace() + dd1_v_upper.trace()\n",
    "\n",
    "dd2_v_none_plus_lower = dd2_v_none.trace() + dd2_v_lower.trace()\n",
    "dd2_v_none_plus_upper = dd2_v_none.trace() + dd2_v_upper.trace()"
   ]
  },
  {
   "cell_type": "code",
   "execution_count": null,
   "metadata": {},
   "outputs": [],
   "source": [
    "print(\"P(dd1_v_none_plus_lower < dd2_v_none_plus_lower) = \", (dd1_v_none_plus_lower < dd2_v_none_plus_lower).mean())\n",
    "print(\"P(dd1_v_none_plus_upper < dd2_v_none_plus_upper) = \", (dd1_v_none_plus_upper < dd2_v_none_plus_upper).mean())"
   ]
  },
  {
   "cell_type": "code",
   "execution_count": null,
   "metadata": {},
   "outputs": [],
   "source": []
  }
 ],
 "metadata": {
  "anaconda-cloud": {},
  "kernelspec": {
   "display_name": "Python [conda env:hddm]",
   "language": "python",
   "name": "conda-env-hddm-py"
  },
  "language_info": {
   "codemirror_mode": {
    "name": "ipython",
    "version": 3
   },
   "file_extension": ".py",
   "mimetype": "text/x-python",
   "name": "python",
   "nbconvert_exporter": "python",
   "pygments_lexer": "ipython3",
   "version": "3.5.6"
  }
 },
 "nbformat": 4,
 "nbformat_minor": 1
}
