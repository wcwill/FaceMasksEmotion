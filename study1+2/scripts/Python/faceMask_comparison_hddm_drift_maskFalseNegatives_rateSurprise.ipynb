{
 "cells": [
  {
   "cell_type": "code",
   "execution_count": null,
   "metadata": {},
   "outputs": [],
   "source": [
    "# faceMask and faceMask2 hDDM face ratings analysis script: mask analyses of false negatives (failing to ID correct emotion)\n",
    "# 22/03/21\n",
    "\n",
    "# note: to be run within python 3.5 environment named \"hddm\" (from console: 'source activate hddm')\n",
    "# confirm jupyter notebook is launching from \"hddm\" environment (see top-right: 'conda env:hddm')\n",
    "\n",
    "# set up\n",
    "import numpy as np\n",
    "print(np.__version__) # should be 1.11.3\n",
    "\n",
    "import pandas as pd\n",
    "import matplotlib.pyplot as plt\n",
    "%matplotlib inline\n",
    "\n",
    "from patsy import dmatrix\n",
    "\n",
    "import hddm\n",
    "print(hddm.__version__) # should be 0.6.0"
   ]
  },
  {
   "cell_type": "code",
   "execution_count": null,
   "metadata": {},
   "outputs": [],
   "source": [
    "# load hDDM-processed data from CSV file into a NumPy structured array\n",
    "data1 = hddm.load_csv('faceMask_hddm_proc.csv')\n",
    "                     \n",
    "# flip 'no' response RTs to be negative\n",
    "data1 = hddm.utils.flip_errors(data1)\n",
    "\n",
    "# check dataset\n",
    "data1.head(10)"
   ]
  },
  {
   "cell_type": "code",
   "execution_count": null,
   "metadata": {},
   "outputs": [],
   "source": [
    "# plot RTs for each participant\n",
    "fig = plt.figure()\n",
    "ax = fig.add_subplot(111, xlabel='RT', ylabel='count', title='RT distributions')\n",
    "for i, subj_data in data1.groupby('subj_idx'):\n",
    "    subj_data.rt.hist(bins=20, histtype='step', ax=ax)"
   ]
  },
  {
   "cell_type": "code",
   "execution_count": null,
   "metadata": {},
   "outputs": [],
   "source": [
    "# subset dataset by emotion rating type (surprised) and facial expression (surprised)\n",
    "rr1_data = data1.loc[(data1['emotionRating'] == 'surprised') & (data1['expression'] == 'surprised')]\n",
    "rr1_data.head(10)"
   ]
  },
  {
   "cell_type": "code",
   "execution_count": null,
   "metadata": {},
   "outputs": [],
   "source": [
    "# drop any subjects missing columns in design matrix (otherwise produces error)\n",
    "rr1_data = rr1_data[(rr1_data.subj_idx != '7chb1ucy8l7g29z')]"
   ]
  },
  {
   "cell_type": "code",
   "execution_count": null,
   "metadata": {},
   "outputs": [],
   "source": [
    "# define model\n",
    "m_rr1 = hddm.HDDMRegressor(rr1_data, \"v ~ C(mask)\", bias=True, p_outlier=0.05)"
   ]
  },
  {
   "cell_type": "code",
   "execution_count": null,
   "metadata": {},
   "outputs": [],
   "source": [
    "# run model\n",
    "m_rr1.sample(5000, burn=200, dbname='traces.db', db='pickle')\n",
    "m_rr1.print_stats()\n",
    "m_rr1.plot_posteriors()"
   ]
  },
  {
   "cell_type": "code",
   "execution_count": null,
   "metadata": {},
   "outputs": [],
   "source": [
    "# save model stats\n",
    "rr1_stats = m_rr1.gen_stats()\n",
    "print(rr1_stats)\n",
    "rr1_stats.to_csv('rr1_5000/faceMask_hddm_drift_maskFalseNegatives_rr1_5000.csv', index=True)\n",
    "\n",
    "# save model posterior plots\n",
    "m_rr1.plot_posteriors(path='rr1_5000/_posteriors', save=True)"
   ]
  },
  {
   "cell_type": "code",
   "execution_count": null,
   "metadata": {},
   "outputs": [],
   "source": [
    "# plot model posteriors by mask\n",
    "rr1_v_none, rr1_v_lower, rr1_v_upper = m_rr1.nodes_db.node[[\"v_Intercept\", \"v_C(mask)[T.lower]\", \"v_C(mask)[T.upper]\"]]\n",
    "hddm.analyze.plot_posterior_nodes([rr1_v_none, rr1_v_lower, rr1_v_upper])\n",
    "plt.savefig('rr1_5000/faceMask_hddm_drift_maskFalsePositives_rr1_5000_v_mask.pdf')"
   ]
  },
  {
   "cell_type": "code",
   "execution_count": null,
   "metadata": {},
   "outputs": [],
   "source": [
    "## estimate probabilities that mask coefficient posteriors differ from 0\n",
    "# note that comparison condition coefficients (i.e. lower/upper) are *relative to* baseline condition (i.e. no mask)\n",
    "# for lower/upper, =0 means no change from baseline, <0 means less than baseline, and >0 means greater than baseline\n",
    "# for no mask, =0 means null drift, <0 means negative drift, and >0 means positive drift\n",
    "print(\"P(rr1_v_none < 0) = \", (rr1_v_none.trace() < 0).mean())\n",
    "print(\"P(rr1_v_lower > 0) = \", (rr1_v_lower.trace() > 0).mean())\n",
    "print(\"P(rr1_v_upper > 0) = \", (rr1_v_upper.trace() > 0).mean())\n",
    "# estimate probability that lower and upper mask coefficient posteriors differ\n",
    "print(\"P(rr1_v_lower > rr1_v_upper) = \", (rr1_v_lower.trace() > rr1_v_upper.trace()).mean())"
   ]
  },
  {
   "cell_type": "code",
   "execution_count": null,
   "metadata": {},
   "outputs": [],
   "source": []
  },
  {
   "cell_type": "code",
   "execution_count": null,
   "metadata": {},
   "outputs": [],
   "source": [
    "# load hDDM-processed data from CSV file into a NumPy structured array\n",
    "data2 = hddm.load_csv('faceMask2_hddm_proc.csv')\n",
    "                     \n",
    "# flip 'no' response RTs to be negative\n",
    "data2 = hddm.utils.flip_errors(data2)\n",
    "\n",
    "# check dataset\n",
    "data2.head(10)"
   ]
  },
  {
   "cell_type": "code",
   "execution_count": null,
   "metadata": {},
   "outputs": [],
   "source": [
    "# plot RTs for each participant\n",
    "fig = plt.figure()\n",
    "ax = fig.add_subplot(111, xlabel='RT', ylabel='count', title='RT distributions')\n",
    "for i, subj_data in data2.groupby('subj_idx'):\n",
    "    subj_data.rt.hist(bins=20, histtype='step', ax=ax)"
   ]
  },
  {
   "cell_type": "code",
   "execution_count": null,
   "metadata": {},
   "outputs": [],
   "source": [
    "# subset dataset by emotion rating type (surprised) and facial expression (surprised)\n",
    "rr2_data = data2.loc[(data2['emotionRating'] == 'surprised') & (data2['expression'] == 'surprised')]\n",
    "rr2_data.head(10)"
   ]
  },
  {
   "cell_type": "code",
   "execution_count": null,
   "metadata": {},
   "outputs": [],
   "source": [
    "# drop any subjects missing columns in design matrix (otherwise produces error)\n",
    "rr2_data = rr2_data[(rr2_data.subj_idx != 'xs5439nm2v85thb') & (rr2_data.subj_idx != 'me8doxrmo9vj9dx') & (rr2_data.subj_idx != 'dqph4ch0mkofejw')]"
   ]
  },
  {
   "cell_type": "code",
   "execution_count": null,
   "metadata": {},
   "outputs": [],
   "source": [
    "# define model\n",
    "m_rr2 = hddm.HDDMRegressor(rr2_data, \"v ~ C(mask)\", bias=True, p_outlier=0.05)"
   ]
  },
  {
   "cell_type": "code",
   "execution_count": null,
   "metadata": {},
   "outputs": [],
   "source": [
    "# run model\n",
    "m_rr2.sample(5000, burn=200, dbname='traces.db', db='pickle')\n",
    "m_rr2.print_stats()\n",
    "m_rr2.plot_posteriors()"
   ]
  },
  {
   "cell_type": "code",
   "execution_count": null,
   "metadata": {},
   "outputs": [],
   "source": [
    "# save model stats\n",
    "rr2_stats = m_rr2.gen_stats()\n",
    "print(rr2_stats)\n",
    "rr2_stats.to_csv('rr2_5000/faceMask2_hddm_drift_maskFalseNegatives_rr2_5000.csv', index=True)\n",
    "\n",
    "# save model posterior plots\n",
    "m_rr2.plot_posteriors(path='rr2_5000/_posteriors', save=True)"
   ]
  },
  {
   "cell_type": "code",
   "execution_count": null,
   "metadata": {},
   "outputs": [],
   "source": [
    "# plot model posteriors by mask\n",
    "rr2_v_none, rr2_v_lower, rr2_v_upper = m_rr2.nodes_db.node[[\"v_Intercept\", \"v_C(mask)[T.lower]\", \"v_C(mask)[T.upper]\"]]\n",
    "hddm.analyze.plot_posterior_nodes([rr2_v_none, rr2_v_lower, rr2_v_upper])\n",
    "plt.savefig('rr2_5000/faceMask2_hddm_drift_maskFalsePositives_rr2_5000_v_mask.pdf')"
   ]
  },
  {
   "cell_type": "code",
   "execution_count": null,
   "metadata": {},
   "outputs": [],
   "source": [
    "## estimate probabilities that mask coefficient posteriors differ from 0\n",
    "# note that comparison condition coefficients (i.e. lower/upper) are *relative to* baseline condition (i.e. no mask)\n",
    "# for lower/upper, =0 means no change from baseline, <0 means less than baseline, and >0 means greater than baseline\n",
    "# for no mask, =0 means null drift, <0 means negative drift, and >0 means positive drift\n",
    "print(\"P(rr2_v_none < 0) = \", (rr2_v_none.trace() < 0).mean())\n",
    "print(\"P(rr2_v_lower > 0) = \", (rr2_v_lower.trace() > 0).mean())\n",
    "print(\"P(rr2_v_upper > 0) = \", (rr2_v_upper.trace() > 0).mean())\n",
    "# estimate probability that lower and upper mask coefficient posteriors differ\n",
    "print(\"P(rr2_v_lower > rr2_v_upper) = \", (rr2_v_lower.trace() > rr2_v_upper.trace()).mean())"
   ]
  },
  {
   "cell_type": "code",
   "execution_count": null,
   "metadata": {},
   "outputs": [],
   "source": []
  },
  {
   "cell_type": "code",
   "execution_count": null,
   "metadata": {},
   "outputs": [],
   "source": [
    "## estimate probabilities that mask coefficient posteriors differ from each other (faceMask 1 vs. faceMask2)\n",
    "# note that comparison condition coefficients (i.e. lower/upper) are *relative to* baseline condition (i.e. no mask)\n",
    "# for lower/upper, =0 means no change from baseline, <0 means less than baseline, and >0 means greater than baseline\n",
    "# for no mask, =0 means null drift, <0 means negative drift, and >0 means positive drift\n",
    "print(\"P(rr1_v_none > rr2_v_none) = \", (rr1_v_none.trace() > rr2_v_none.trace()).mean())\n",
    "print(\"P(rr1_v_lower < rr2_v_lower) = \", (rr1_v_lower.trace() < rr2_v_lower.trace()).mean())\n",
    "print(\"P(rr1_v_upper > rr2_v_upper) = \", (rr1_v_upper.trace() > rr2_v_upper.trace()).mean())\n"
   ]
  },
  {
   "cell_type": "code",
   "execution_count": null,
   "metadata": {},
   "outputs": [],
   "source": [
    "## adding together the relative values:\n",
    "rr1_v_none_plus_lower = rr1_v_none.trace() + rr1_v_lower.trace()\n",
    "rr1_v_none_plus_upper = rr1_v_none.trace() + rr1_v_upper.trace()\n",
    "\n",
    "rr2_v_none_plus_lower = rr2_v_none.trace() + rr2_v_lower.trace()\n",
    "rr2_v_none_plus_upper = rr2_v_none.trace() + rr2_v_upper.trace()"
   ]
  },
  {
   "cell_type": "code",
   "execution_count": null,
   "metadata": {},
   "outputs": [],
   "source": [
    "print(\"P(rr1_v_none_plus_lower > rr2_v_none_plus_lower) = \", (rr1_v_none_plus_lower > rr2_v_none_plus_lower).mean())\n",
    "print(\"P(rr1_v_none_plus_upper > rr2_v_none_plus_upper) = \", (rr1_v_none_plus_upper > rr2_v_none_plus_upper).mean())"
   ]
  },
  {
   "cell_type": "code",
   "execution_count": null,
   "metadata": {},
   "outputs": [],
   "source": []
  }
 ],
 "metadata": {
  "anaconda-cloud": {},
  "kernelspec": {
   "display_name": "Python [conda env:hddm]",
   "language": "python",
   "name": "conda-env-hddm-py"
  },
  "language_info": {
   "codemirror_mode": {
    "name": "ipython",
    "version": 3
   },
   "file_extension": ".py",
   "mimetype": "text/x-python",
   "name": "python",
   "nbconvert_exporter": "python",
   "pygments_lexer": "ipython3",
   "version": "3.5.6"
  }
 },
 "nbformat": 4,
 "nbformat_minor": 1
}
