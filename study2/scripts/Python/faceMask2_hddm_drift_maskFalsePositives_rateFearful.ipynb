{
 "cells": [
  {
   "cell_type": "code",
   "execution_count": null,
   "metadata": {},
   "outputs": [],
   "source": [
    "# faceMask hDDM face ratings analysis script: mask analyses of false negatives (failing to ID correct emotion)\n",
    "# 12/07/20\n",
    "\n",
    "# note: to be run within python 3.5 environment named \"hddm\" (from console: 'source activate hddm')\n",
    "# confirm jupyter notebook is launching from \"hddm\" environment (see top-right: 'conda env:hddm')\n",
    "\n",
    "# set up\n",
    "import numpy as np\n",
    "print(np.__version__) # should be 1.11.3\n",
    "\n",
    "import pandas as pd\n",
    "import matplotlib.pyplot as plt\n",
    "%matplotlib inline\n",
    "\n",
    "from patsy import dmatrix\n",
    "\n",
    "import hddm\n",
    "print(hddm.__version__) # should be 0.6.0"
   ]
  },
  {
   "cell_type": "code",
   "execution_count": null,
   "metadata": {},
   "outputs": [],
   "source": [
    "# load hDDM-processed data from CSV file into a NumPy structured array\n",
    "data = hddm.load_csv('faceMask2_hddm_proc.csv')\n",
    "                     \n",
    "# flip 'no' response RTs to be negative\n",
    "data = hddm.utils.flip_errors(data)\n",
    "\n",
    "# check dataset\n",
    "data.head(10)"
   ]
  },
  {
   "cell_type": "code",
   "execution_count": null,
   "metadata": {},
   "outputs": [],
   "source": [
    "# plot RTs for each participant\n",
    "fig = plt.figure()\n",
    "ax = fig.add_subplot(111, xlabel='RT', ylabel='count', title='RT distributions')\n",
    "for i, subj_data in data.groupby('subj_idx'):\n",
    "    subj_data.rt.hist(bins=20, histtype='step', ax=ax)"
   ]
  },
  {
   "cell_type": "code",
   "execution_count": null,
   "metadata": {},
   "outputs": [],
   "source": [
    "# subset dataset by emotion rating type (fearful) and facial expression (angry)\n",
    "fa_data = data.loc[(data['emotionRating'] == 'fearful') & (data['expression'] == 'angry')]\n",
    "fa_data.head(10)"
   ]
  },
  {
   "cell_type": "code",
   "execution_count": null,
   "metadata": {},
   "outputs": [],
   "source": [
    "# drop any subjects missing columns in design matrix (otherwise produces error)\n",
    "fa_data = fa_data[(fa_data.subj_idx != 'dqph4ch0mkofejw') & (fa_data.subj_idx != 'hdn2l3df216jykn') & (fa_data.subj_idx != 'tz7c8yczxjyfo0y') & (fa_data.subj_idx != 'xs5439nm2v85thb')]"
   ]
  },
  {
   "cell_type": "code",
   "execution_count": null,
   "metadata": {},
   "outputs": [],
   "source": [
    "# define model\n",
    "m_fa = hddm.HDDMRegressor(fa_data, \"v ~ C(mask)\", bias=True, p_outlier=0.05)"
   ]
  },
  {
   "cell_type": "code",
   "execution_count": null,
   "metadata": {},
   "outputs": [],
   "source": [
    "# run model\n",
    "m_fa.sample(5000, burn=200, dbname='traces.db', db='pickle')\n",
    "m_fa.print_stats()\n",
    "m_fa.plot_posteriors()"
   ]
  },
  {
   "cell_type": "code",
   "execution_count": null,
   "metadata": {},
   "outputs": [],
   "source": [
    "# save model stats\n",
    "fa_stats = m_fa.gen_stats()\n",
    "print(fa_stats)\n",
    "fa_stats.to_csv('fa_5000/faceMask_hddm_drift_maskFalsePositives_fa_5000.csv', index=True)\n",
    "\n",
    "# save model posterior plots\n",
    "m_fa.plot_posteriors(path='fa_5000/_posteriors', save=True)"
   ]
  },
  {
   "cell_type": "code",
   "execution_count": null,
   "metadata": {},
   "outputs": [],
   "source": [
    "# plot model posteriors by mask\n",
    "fa_v_none, fa_v_lower, fa_v_upper = m_fa.nodes_db.node[[\"v_Intercept\", \"v_C(mask)[T.lower]\", \"v_C(mask)[T.upper]\"]]\n",
    "hddm.analyze.plot_posterior_nodes([fa_v_none, fa_v_lower, fa_v_upper])\n",
    "plt.savefig('fa_5000/faceMask_hddm_drift_maskFalsePositives_fa_5000_v_mask.pdf')"
   ]
  },
  {
   "cell_type": "code",
   "execution_count": null,
   "metadata": {},
   "outputs": [],
   "source": [
    "## estimate probabilities that mask coefficient posteriors differ from 0\n",
    "# note that comparison condition coefficients (i.e. lower/upper) are *relative to* baseline condition (i.e. no mask)\n",
    "# for lower/upper, =0 means no change from baseline, <0 means less than baseline, and >0 means greater than baseline\n",
    "# for no mask, =0 means null drift, <0 means negative drift, and >0 means positive drift\n",
    "print(\"P(fa_v_none < 0) = \", (fa_v_none.trace() < 0).mean())\n",
    "print(\"P(fa_v_lower < 0) = \", (fa_v_lower.trace() < 0).mean())\n",
    "print(\"P(fa_v_upper > 0) = \", (fa_v_upper.trace() > 0).mean())\n",
    "\n",
    "# estimate probability that lower and upper mask coefficient posteriors differ\n",
    "print(\"P(fa_v_lower < fa_v_upper) = \", (fa_v_lower.trace() < fa_v_upper.trace()).mean())"
   ]
  },
  {
   "cell_type": "code",
   "execution_count": null,
   "metadata": {},
   "outputs": [],
   "source": [
    "# subset dataset by emotion rating type (fearful) and facial expression (sad)\n",
    "fs_data = data.loc[(data['emotionRating'] == 'fearful') & (data['expression'] == 'sad')]\n",
    "fs_data.head(10)"
   ]
  },
  {
   "cell_type": "code",
   "execution_count": null,
   "metadata": {},
   "outputs": [],
   "source": [
    "# drop any subjects missing columns in design matrix (otherwise produces error)\n",
    "fs_data = fs_data[(fs_data.subj_idx != 'dqph4ch0mkofejw') & (fs_data.subj_idx != 'xs5439nm2v85thb')]"
   ]
  },
  {
   "cell_type": "code",
   "execution_count": null,
   "metadata": {},
   "outputs": [],
   "source": [
    "# define model\n",
    "m_fs = hddm.HDDMRegressor(fs_data, \"v ~ C(mask)\", bias=True, p_outlier=0.05)"
   ]
  },
  {
   "cell_type": "code",
   "execution_count": null,
   "metadata": {},
   "outputs": [],
   "source": [
    "# run model\n",
    "m_fs.sample(5000, burn=200, dbname='traces.db', db='pickle')\n",
    "m_fs.print_stats()\n",
    "m_fs.plot_posteriors()"
   ]
  },
  {
   "cell_type": "code",
   "execution_count": null,
   "metadata": {},
   "outputs": [],
   "source": [
    "# save model stats\n",
    "fs_stats = m_fs.gen_stats()\n",
    "print(fs_stats)\n",
    "fs_stats.to_csv('fs_5000/faceMask_hddm_drift_maskFalsePositives_fs_5000.csv', index=True)\n",
    "\n",
    "# save model posterior plots\n",
    "m_fs.plot_posteriors(path='fs_5000/_posteriors', save=True)"
   ]
  },
  {
   "cell_type": "code",
   "execution_count": null,
   "metadata": {},
   "outputs": [],
   "source": [
    "# plot model posteriors by mask\n",
    "fs_v_none, fs_v_lower, fs_v_upper = m_fs.nodes_db.node[[\"v_Intercept\", \"v_C(mask)[T.lower]\", \"v_C(mask)[T.upper]\"]]\n",
    "hddm.analyze.plot_posterior_nodes([fs_v_none, fs_v_lower, fs_v_upper])\n",
    "plt.savefig('fs_5000/faceMask_hddm_drift_maskFalsePositives_fs_5000_v_mask.pdf')"
   ]
  },
  {
   "cell_type": "code",
   "execution_count": null,
   "metadata": {},
   "outputs": [],
   "source": [
    "## estimate probabilities that mask coefficient posteriors differ from 0\n",
    "# note that comparison condition coefficients (i.e. lower/upper) are *relative to* baseline condition (i.e. no mask)\n",
    "# for lower/upper, =0 means no change from baseline, <0 means less than baseline, and >0 means greater than baseline\n",
    "# for no mask, =0 means null drift, <0 means negative drift, and >0 means positive drift\n",
    "print(\"P(fs_v_none < 0) = \", (fs_v_none.trace() < 0).mean())\n",
    "print(\"P(fs_v_lower < 0) = \", (fs_v_lower.trace() < 0).mean())\n",
    "print(\"P(fs_v_upper > 0) = \", (fs_v_upper.trace() > 0).mean())\n",
    "\n",
    "# estimate probability that lower and upper mask coefficient posteriors differ\n",
    "print(\"P(fs_v_lower < fs_v_upper) = \", (fs_v_lower.trace() < fs_v_upper.trace()).mean())"
   ]
  },
  {
   "cell_type": "code",
   "execution_count": null,
   "metadata": {},
   "outputs": [],
   "source": [
    "# subset dataset by emotion rating type (fearful) and facial expression (surprised)\n",
    "fr_data = data.loc[(data['emotionRating'] == 'fearful') & (data['expression'] == 'surprised')]\n",
    "fr_data.head(10)"
   ]
  },
  {
   "cell_type": "code",
   "execution_count": null,
   "metadata": {},
   "outputs": [],
   "source": [
    "# drop any subjects missing columns in design matrix (otherwise produces error)\n",
    "fr_data = fr_data[(fr_data.subj_idx != 'dqph4ch0mkofejw') & (fr_data.subj_idx != 'xs5439nm2v85thb')]"
   ]
  },
  {
   "cell_type": "code",
   "execution_count": null,
   "metadata": {},
   "outputs": [],
   "source": [
    "# define model\n",
    "m_fr = hddm.HDDMRegressor(fr_data, \"v ~ C(mask)\", bias=True, p_outlier=0.05)"
   ]
  },
  {
   "cell_type": "code",
   "execution_count": null,
   "metadata": {},
   "outputs": [],
   "source": [
    "# run model\n",
    "m_fr.sample(5000, burn=200, dbname='traces.db', db='pickle')\n",
    "m_fr.print_stats()\n",
    "m_fr.plot_posteriors()"
   ]
  },
  {
   "cell_type": "code",
   "execution_count": null,
   "metadata": {},
   "outputs": [],
   "source": [
    "# save model stats\n",
    "fr_stats = m_fr.gen_stats()\n",
    "print(fr_stats)\n",
    "fr_stats.to_csv('fr_5000/faceMask_hddm_drift_maskFalsePositives_fr_5000.csv', index=True)\n",
    "\n",
    "# save model posterior plots\n",
    "m_fr.plot_posteriors(path='fr_5000/_posteriors', save=True)"
   ]
  },
  {
   "cell_type": "code",
   "execution_count": null,
   "metadata": {},
   "outputs": [],
   "source": [
    "# plot model posteriors by mask\n",
    "fr_v_none, fr_v_lower, fr_v_upper = m_fr.nodes_db.node[[\"v_Intercept\", \"v_C(mask)[T.lower]\", \"v_C(mask)[T.upper]\"]]\n",
    "hddm.analyze.plot_posterior_nodes([fr_v_none, fr_v_lower, fr_v_upper])\n",
    "plt.savefig('fr_5000/faceMask_hddm_drift_maskFalsePositives_fr_5000_v_mask.pdf')"
   ]
  },
  {
   "cell_type": "code",
   "execution_count": null,
   "metadata": {},
   "outputs": [],
   "source": [
    "## estimate probabilities that mask coefficient posteriors differ from 0\n",
    "# note that comparison condition coefficients (i.e. lower/upper) are *relative to* baseline condition (i.e. no mask)\n",
    "# for lower/upper, =0 means no change from baseline, <0 means less than baseline, and >0 means greater than baseline\n",
    "# for no mask, =0 means null drift, <0 means negative drift, and >0 means positive drift\n",
    "print(\"P(fr_v_none < 0) = \", (fr_v_none.trace() < 0).mean())\n",
    "print(\"P(fr_v_lower < 0) = \", (fr_v_lower.trace() < 0).mean())\n",
    "print(\"P(fr_v_upper > 0) = \", (fr_v_upper.trace() > 0).mean())\n",
    "\n",
    "# estimate probability that lower and upper mask coefficient posteriors differ\n",
    "print(\"P(fr_v_lower < fr_v_upper) = \", (fr_v_lower.trace() < fr_v_upper.trace()).mean())"
   ]
  },
  {
   "cell_type": "code",
   "execution_count": null,
   "metadata": {},
   "outputs": [],
   "source": []
  }
 ],
 "metadata": {
  "anaconda-cloud": {},
  "kernelspec": {
   "display_name": "Python [conda root]",
   "language": "python",
   "name": "conda-root-py"
  },
  "language_info": {
   "codemirror_mode": {
    "name": "ipython",
    "version": 3
   },
   "file_extension": ".py",
   "mimetype": "text/x-python",
   "name": "python",
   "nbconvert_exporter": "python",
   "pygments_lexer": "ipython3",
   "version": "3.7.0"
  }
 },
 "nbformat": 4,
 "nbformat_minor": 1
}
