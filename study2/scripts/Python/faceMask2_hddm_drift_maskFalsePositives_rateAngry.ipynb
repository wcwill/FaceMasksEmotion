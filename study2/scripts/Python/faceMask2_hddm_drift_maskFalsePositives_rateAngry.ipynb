{
 "cells": [
  {
   "cell_type": "code",
   "execution_count": null,
   "metadata": {},
   "outputs": [],
   "source": [
    "# faceMask hDDM face ratings analysis script: mask analyses of false negatives (failing to ID correct emotion)\n",
    "# 12/07/20\n",
    "\n",
    "# note: to be run within python 3.5 environment named \"hddm\" (from console: 'source activate hddm')\n",
    "# confirm jupyter notebook is launching from \"hddm\" environment (see top-right: 'conda env:hddm')\n",
    "\n",
    "# set up\n",
    "import numpy as np\n",
    "print(np.__version__) # should be 1.11.3\n",
    "\n",
    "import pandas as pd\n",
    "import matplotlib.pyplot as plt\n",
    "%matplotlib inline\n",
    "\n",
    "from patsy import dmatrix\n",
    "\n",
    "import hddm\n",
    "print(hddm.__version__) # should be 0.6.0"
   ]
  },
  {
   "cell_type": "code",
   "execution_count": null,
   "metadata": {},
   "outputs": [],
   "source": [
    "# load hDDM-processed data from CSV file into a NumPy structured array\n",
    "data = hddm.load_csv('faceMask2_hddm_proc.csv')\n",
    "                     \n",
    "# flip 'no' response RTs to be negative\n",
    "data = hddm.utils.flip_errors(data)\n",
    "\n",
    "# check dataset\n",
    "data.head(10)"
   ]
  },
  {
   "cell_type": "code",
   "execution_count": null,
   "metadata": {},
   "outputs": [],
   "source": [
    "# plot RTs for each participant\n",
    "fig = plt.figure()\n",
    "ax = fig.add_subplot(111, xlabel='RT', ylabel='count', title='RT distributions')\n",
    "for i, subj_data in data.groupby('subj_idx'):\n",
    "    subj_data.rt.hist(bins=20, histtype='step', ax=ax)"
   ]
  },
  {
   "cell_type": "code",
   "execution_count": null,
   "metadata": {},
   "outputs": [],
   "source": [
    "# subset dataset by emotion rating type (angry) and facial expression (disgust)\n",
    "ad_data = data.loc[(data['emotionRating'] == 'angry') & (data['expression'] == 'disgusted')]\n",
    "ad_data.head(10)"
   ]
  },
  {
   "cell_type": "code",
   "execution_count": null,
   "metadata": {},
   "outputs": [],
   "source": [
    "# drop any subjects missing columns in design matrix (otherwise produces error)\n",
    "ad_data = ad_data[(ad_data.subj_idx != 'dqph4ch0mkofejw')]"
   ]
  },
  {
   "cell_type": "code",
   "execution_count": null,
   "metadata": {},
   "outputs": [],
   "source": [
    "# define model\n",
    "m_ad = hddm.HDDMRegressor(ad_data, \"v ~ C(mask)\", bias=True, p_outlier=0.05)"
   ]
  },
  {
   "cell_type": "code",
   "execution_count": null,
   "metadata": {},
   "outputs": [],
   "source": [
    "# run model\n",
    "m_ad.sample(5000, burn=200, dbname='traces.db', db='pickle')\n",
    "m_ad.print_stats()\n",
    "m_ad.plot_posteriors()"
   ]
  },
  {
   "cell_type": "code",
   "execution_count": null,
   "metadata": {},
   "outputs": [],
   "source": [
    "# save model stats\n",
    "ad_stats = m_ad.gen_stats()\n",
    "print(ad_stats)\n",
    "ad_stats.to_csv('ad_5000/faceMask_hddm_faceRatings_maskFalsePositives_ad_5000.csv', index=True)\n",
    "\n",
    "# save model posterior plots\n",
    "m_ad.plot_posteriors(path='ad_5000/_posteriors', save=True)"
   ]
  },
  {
   "cell_type": "code",
   "execution_count": null,
   "metadata": {},
   "outputs": [],
   "source": [
    "# plot model posteriors by mask\n",
    "ad_v_none, ad_v_lower, ad_v_upper = m_ad.nodes_db.node[[\"v_Intercept\", \"v_C(mask)[T.lower]\", \"v_C(mask)[T.upper]\"]]\n",
    "hddm.analyze.plot_posterior_nodes([ad_v_none, ad_v_lower, ad_v_upper])\n",
    "plt.savefig('ad_5000/faceMask_hddm_faceRatings_maskFalsePositives_ad_5000_v_mask.pdf')"
   ]
  },
  {
   "cell_type": "code",
   "execution_count": null,
   "metadata": {},
   "outputs": [],
   "source": [
    "## estimate probabilities that mask coefficient posteriors differ from 0\n",
    "# note that comparison condition coefficients (i.e. lower/upper) are *relative to* baseline condition (i.e. no mask)\n",
    "# for lower/upper, =0 means no change from baseline, <0 means less than baseline, and >0 means greater than baseline\n",
    "# for no mask, =0 means null drift, <0 means negative drift, and >0 means positive drift\n",
    "print(\"P(ad_v_none < 0) = \", (ad_v_none.trace() < 0).mean())\n",
    "print(\"P(ad_v_lower < 0) = \", (ad_v_lower.trace() < 0).mean())\n",
    "print(\"P(ad_v_upper > 0) = \", (ad_v_upper.trace() > 0).mean())\n",
    "# estimate probability that lower and upper mask coefficient posteriors differ\n",
    "print(\"P(ad_v_lower < ad_v_upper) = \", (ad_v_lower.trace() < ad_v_upper.trace()).mean())"
   ]
  },
  {
   "cell_type": "code",
   "execution_count": null,
   "metadata": {},
   "outputs": [],
   "source": [
    "# subset dataset by emotion rating type (angry) and facial expression (happy)\n",
    "ah_data = data.loc[(data['emotionRating'] == 'angry') & (data['expression'] == 'happy')]\n",
    "ah_data.head(10)"
   ]
  },
  {
   "cell_type": "code",
   "execution_count": null,
   "metadata": {},
   "outputs": [],
   "source": [
    "# drop any subjects missing columns in design matrix (otherwise produces error)\n",
    "ah_data = ah_data[(ah_data.subj_idx != 'dqph4ch0mkofejw') & (ah_data.subj_idx != 'xs5439nm2v85thb')]"
   ]
  },
  {
   "cell_type": "code",
   "execution_count": null,
   "metadata": {},
   "outputs": [],
   "source": [
    "# define model\n",
    "m_ah = hddm.HDDMRegressor(ah_data, \"v ~ C(mask)\", bias=True, p_outlier=0.05)"
   ]
  },
  {
   "cell_type": "code",
   "execution_count": null,
   "metadata": {},
   "outputs": [],
   "source": [
    "# run model\n",
    "m_ah.sample(5000, burn=200, dbname='traces.db', db='pickle')\n",
    "m_ah.print_stats()\n",
    "m_ah.plot_posteriors()"
   ]
  },
  {
   "cell_type": "code",
   "execution_count": null,
   "metadata": {},
   "outputs": [],
   "source": [
    "# save model stats\n",
    "ah_stats = m_ah.gen_stats()\n",
    "print(ah_stats)\n",
    "ah_stats.to_csv('ah_5000/faceMask_hddm_faceRatings_maskFalsePositives_ah_5000.csv', index=True)\n",
    "\n",
    "# save model posterior plots\n",
    "m_ah.plot_posteriors(path='ah_5000/_posteriors', save=True)"
   ]
  },
  {
   "cell_type": "code",
   "execution_count": null,
   "metadata": {},
   "outputs": [],
   "source": [
    "# plot model posteriors by mask\n",
    "ah_v_none, ah_v_lower, ah_v_upper = m_ah.nodes_db.node[[\"v_Intercept\", \"v_C(mask)[T.lower]\", \"v_C(mask)[T.upper]\"]]\n",
    "hddm.analyze.plot_posterior_nodes([ah_v_none, ah_v_lower, ah_v_upper])\n",
    "plt.savefig('ah_5000/faceMask_hddm_faceRatings_maskFalsePositives_ah_5000_v_mask.pdf')"
   ]
  },
  {
   "cell_type": "code",
   "execution_count": null,
   "metadata": {},
   "outputs": [],
   "source": [
    "## estimate probabilities that mask coefficient posteriors differ from 0\n",
    "# note that comparison condition coefficients (i.e. lower/upper) are *relative to* baseline condition (i.e. no mask)\n",
    "# for lower/upper, =0 means no change from baseline, <0 means less than baseline, and >0 means greater than baseline\n",
    "# for no mask, =0 means null drift, <0 means negative drift, and >0 means positive drift\n",
    "print(\"P(ah_v_none > 0) = \", (ah_v_none.trace() > 0).mean())\n",
    "print(\"P(ah_v_lower < 0) = \", (ah_v_lower.trace() < 0).mean())\n",
    "print(\"P(ah_v_upper > 0) = \", (ah_v_upper.trace() > 0).mean())\n",
    "# estimate probability that lower and upper mask coefficient posteriors differ\n",
    "print(\"P(ah_v_lower < ah_v_upper) = \", (ah_v_lower.trace() < ah_v_upper.trace()).mean())"
   ]
  },
  {
   "cell_type": "code",
   "execution_count": null,
   "metadata": {},
   "outputs": [],
   "source": [
    "# subset dataset by emotion rating type (angry) and facial expression (surprised)\n",
    "ar_data = data.loc[(data['emotionRating'] == 'angry') & (data['expression'] == 'surprised')]\n",
    "ar_data.head(10)"
   ]
  },
  {
   "cell_type": "code",
   "execution_count": null,
   "metadata": {},
   "outputs": [],
   "source": [
    "# drop any subjects missing columns in design matrix (otherwise produces error) \n",
    "ar_data = ar_data[(ar_data.subj_idx != 'dqph4ch0mkofejw')]"
   ]
  },
  {
   "cell_type": "code",
   "execution_count": null,
   "metadata": {},
   "outputs": [],
   "source": [
    "# define model\n",
    "m_ar = hddm.HDDMRegressor(ar_data, \"v ~ C(mask)\", bias=True, p_outlier=0.05)"
   ]
  },
  {
   "cell_type": "code",
   "execution_count": null,
   "metadata": {},
   "outputs": [],
   "source": [
    "# run model\n",
    "m_ar.sample(5000, burn=200, dbname='traces.db', db='pickle')\n",
    "m_ar.print_stats()\n",
    "m_ar.plot_posteriors()"
   ]
  },
  {
   "cell_type": "code",
   "execution_count": null,
   "metadata": {},
   "outputs": [],
   "source": [
    "# save model stats\n",
    "ar_stats = m_ar.gen_stats()\n",
    "print(ar_stats)\n",
    "ar_stats.to_csv('ar_5000/faceMask_hddm_faceRatings_maskFalsePositives_ar_5000.csv', index=True)\n",
    "\n",
    "# save model posterior plots\n",
    "m_ar.plot_posteriors(path='ar_5000/_posteriors', save=True)"
   ]
  },
  {
   "cell_type": "code",
   "execution_count": null,
   "metadata": {},
   "outputs": [],
   "source": [
    "# plot model posteriors by mask\n",
    "ar_v_none, ar_v_lower, ar_v_upper = m_ar.nodes_db.node[[\"v_Intercept\", \"v_C(mask)[T.lower]\", \"v_C(mask)[T.upper]\"]]\n",
    "hddm.analyze.plot_posterior_nodes([ar_v_none, ar_v_lower, ar_v_upper])\n",
    "plt.savefig('ar_5000/faceMask_hddm_faceRatings_maskFalsePositives_ar_5000_v_mask.pdf')"
   ]
  },
  {
   "cell_type": "code",
   "execution_count": null,
   "metadata": {},
   "outputs": [],
   "source": [
    "## estimate probabilities that mask coefficient posteriors differ from 0\n",
    "# note that comparison condition coefficients (i.e. lower/upper) are *relative to* baseline condition (i.e. no mask)\n",
    "# for lower/upper, =0 means no change from baseline, <0 means less than baseline, and >0 means greater than baseline\n",
    "# for no mask, =0 means null drift, <0 means negative drift, and >0 means positive drift\n",
    "print(\"P(ar_v_none < 0) = \", (ar_v_none.trace() < 0).mean())\n",
    "print(\"P(ar_v_lower < 0) = \", (ar_v_lower.trace() < 0).mean())\n",
    "print(\"P(ar_v_upper > 0) = \", (ar_v_upper.trace() > 0).mean())\n",
    "# estimate probability that lower and upper mask coefficient posteriors differ\n",
    "print(\"P(ar_v_lower < ar_v_upper) = \", (ar_v_lower.trace() < ar_v_upper.trace()).mean())"
   ]
  },
  {
   "cell_type": "code",
   "execution_count": null,
   "metadata": {},
   "outputs": [],
   "source": []
  }
 ],
 "metadata": {
  "anaconda-cloud": {},
  "kernelspec": {
   "display_name": "Python [conda root]",
   "language": "python",
   "name": "conda-root-py"
  },
  "language_info": {
   "codemirror_mode": {
    "name": "ipython",
    "version": 3
   },
   "file_extension": ".py",
   "mimetype": "text/x-python",
   "name": "python",
   "nbconvert_exporter": "python",
   "pygments_lexer": "ipython3",
   "version": "3.7.0"
  }
 },
 "nbformat": 4,
 "nbformat_minor": 1
}
