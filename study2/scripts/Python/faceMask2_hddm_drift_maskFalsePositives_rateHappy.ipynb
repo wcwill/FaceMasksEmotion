{
 "cells": [
  {
   "cell_type": "code",
   "execution_count": null,
   "metadata": {},
   "outputs": [],
   "source": [
    "# faceMask hDDM face ratings analysis script: mask analyses of false negatives (failing to ID correct emotion)\n",
    "# 12/07/20\n",
    "\n",
    "# note: to be run within python 3.5 environment named \"hddm\" (from console: 'source activate hddm')\n",
    "# confirm jupyter notebook is launching from \"hddm\" environment (see top-right: 'conda env:hddm')\n",
    "\n",
    "# set up\n",
    "import numpy as np\n",
    "print(np.__version__) # should be 1.11.3\n",
    "\n",
    "import pandas as pd\n",
    "import matplotlib.pyplot as plt\n",
    "%matplotlib inline\n",
    "\n",
    "from patsy import dmatrix\n",
    "\n",
    "import hddm\n",
    "print(hddm.__version__) # should be 0.6.0"
   ]
  },
  {
   "cell_type": "code",
   "execution_count": null,
   "metadata": {},
   "outputs": [],
   "source": [
    "# load hDDM-processed data from CSV file into a NumPy structured array\n",
    "data = hddm.load_csv('faceMask2_hddm_proc.csv')\n",
    "                     \n",
    "# flip 'no' response RTs to be negative\n",
    "data = hddm.utils.flip_errors(data)\n",
    "\n",
    "# check dataset\n",
    "data.head(10)"
   ]
  },
  {
   "cell_type": "code",
   "execution_count": null,
   "metadata": {},
   "outputs": [],
   "source": [
    "# plot RTs for each participant\n",
    "fig = plt.figure()\n",
    "ax = fig.add_subplot(111, xlabel='RT', ylabel='count', title='RT distributions')\n",
    "for i, subj_data in data.groupby('subj_idx'):\n",
    "    subj_data.rt.hist(bins=20, histtype='step', ax=ax)"
   ]
  },
  {
   "cell_type": "code",
   "execution_count": null,
   "metadata": {},
   "outputs": [],
   "source": [
    "# subset dataset by emotion rating type (happy) and facial expression (sad)\n",
    "hs_data = data.loc[(data['emotionRating'] == 'happy') & (data['expression'] == 'sad')]\n",
    "hs_data.head(10)"
   ]
  },
  {
   "cell_type": "code",
   "execution_count": null,
   "metadata": {},
   "outputs": [],
   "source": [
    "# drop any subjects missing columns in design matrix (otherwise produces error)\n",
    "hs_data = hs_data[(hs_data.subj_idx != 'dqph4ch0mkofejw') & (hs_data.subj_idx != 'hdn2l3df216jykn') & (hs_data.subj_idx != 'j2qezlblp8v0dh6') & (hs_data.subj_idx != 'me8doxrmo9vj9dx')]"
   ]
  },
  {
   "cell_type": "code",
   "execution_count": null,
   "metadata": {},
   "outputs": [],
   "source": [
    "# define model\n",
    "m_hs = hddm.HDDMRegressor(hs_data, \"v ~ C(mask)\", bias=True, p_outlier=0.05)"
   ]
  },
  {
   "cell_type": "code",
   "execution_count": null,
   "metadata": {},
   "outputs": [],
   "source": [
    "# run model\n",
    "m_hs.sample(5000, burn=200, dbname='traces.db', db='pickle')\n",
    "m_hs.print_stats()\n",
    "m_hs.plot_posteriors()"
   ]
  },
  {
   "cell_type": "code",
   "execution_count": null,
   "metadata": {},
   "outputs": [],
   "source": [
    "# save model stats\n",
    "hs_stats = m_hs.gen_stats()\n",
    "print(hs_stats)\n",
    "hs_stats.to_csv('hs_5000/faceMask_hddm_drift_maskFalsePositives_hs_5000.csv', index=True)\n",
    "\n",
    "# save model posterior plots\n",
    "m_hs.plot_posteriors(path='hs_5000/_posteriors', save=True)"
   ]
  },
  {
   "cell_type": "code",
   "execution_count": null,
   "metadata": {},
   "outputs": [],
   "source": [
    "# plot model posteriors by mask\n",
    "hs_v_none, hs_v_lower, hs_v_upper = m_hs.nodes_db.node[[\"v_Intercept\", \"v_C(mask)[T.lower]\", \"v_C(mask)[T.upper]\"]]\n",
    "hddm.analyze.plot_posterior_nodes([hs_v_none, hs_v_lower, hs_v_upper])\n",
    "plt.savefig('hs_5000/faceMask_hddm_drift_maskFalsePositives_hs_5000_v_mask.pdf')"
   ]
  },
  {
   "cell_type": "code",
   "execution_count": null,
   "metadata": {},
   "outputs": [],
   "source": [
    "## estimate probabilities that mask coefficient posteriors differ from 0\n",
    "# note that comparison condition coefficients (i.e. lower/upper) are *relative to* baseline condition (i.e. no mask)\n",
    "# for lower/upper, =0 means no change from baseline, <0 means less than baseline, and >0 means greater than baseline\n",
    "# for no mask, =0 means null drift, <0 means negative drift, and >0 means positive drift\n",
    "print(\"P(hs_v_none < 0) = \", (hs_v_none.trace() < 0).mean())\n",
    "print(\"P(hs_v_lower < 0) = \", (hs_v_lower.trace() < 0).mean())\n",
    "print(\"P(hs_v_upper > 0) = \", (hs_v_upper.trace() > 0).mean())\n",
    "\n",
    "# estimate probability that lower and upper mask coefficient posteriors differ\n",
    "print(\"P(hs_v_lower < hs_v_upper) = \", (hs_v_lower.trace() < hs_v_upper.trace()).mean())"
   ]
  },
  {
   "cell_type": "code",
   "execution_count": null,
   "metadata": {},
   "outputs": [],
   "source": []
  }
 ],
 "metadata": {
  "anaconda-cloud": {},
  "kernelspec": {
   "display_name": "Python [conda root]",
   "language": "python",
   "name": "conda-root-py"
  },
  "language_info": {
   "codemirror_mode": {
    "name": "ipython",
    "version": 3
   },
   "file_extension": ".py",
   "mimetype": "text/x-python",
   "name": "python",
   "nbconvert_exporter": "python",
   "pygments_lexer": "ipython3",
   "version": "3.7.0"
  }
 },
 "nbformat": 4,
 "nbformat_minor": 1
}
