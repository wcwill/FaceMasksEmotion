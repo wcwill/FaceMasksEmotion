{
 "cells": [
  {
   "cell_type": "code",
   "execution_count": null,
   "metadata": {},
   "outputs": [],
   "source": [
    "# faceMask hDDM face ratings analysis script: mask analyses of false negatives (failing to ID correct emotion)\n",
    "# 12/07/20\n",
    "\n",
    "# note: to be run within python 3.5 environment named \"hddm\" (from console: 'source activate hddm')\n",
    "# confirm jupyter notebook is launching from \"hddm\" environment (see top-right: 'conda env:hddm')\n",
    "\n",
    "# set up\n",
    "import numpy as np\n",
    "print(np.__version__) # should be 1.11.3\n",
    "\n",
    "import pandas as pd\n",
    "import matplotlib.pyplot as plt\n",
    "%matplotlib inline\n",
    "\n",
    "from patsy import dmatrix\n",
    "\n",
    "import hddm\n",
    "print(hddm.__version__) # should be 0.6.0"
   ]
  },
  {
   "cell_type": "code",
   "execution_count": null,
   "metadata": {},
   "outputs": [],
   "source": [
    "# load hDDM-processed data from CSV file into a NumPy structured array\n",
    "data = hddm.load_csv('faceMask2_hddm_proc.csv')\n",
    "                     \n",
    "# flip 'no' response RTs to be negative\n",
    "data = hddm.utils.flip_errors(data)\n",
    "\n",
    "# check dataset\n",
    "data.head(10)"
   ]
  },
  {
   "cell_type": "code",
   "execution_count": null,
   "metadata": {},
   "outputs": [],
   "source": [
    "# plot RTs for each participant\n",
    "fig = plt.figure()\n",
    "ax = fig.add_subplot(111, xlabel='RT', ylabel='count', title='RT distributions')\n",
    "for i, subj_data in data.groupby('subj_idx'):\n",
    "    subj_data.rt.hist(bins=20, histtype='step', ax=ax)"
   ]
  },
  {
   "cell_type": "code",
   "execution_count": null,
   "metadata": {},
   "outputs": [],
   "source": [
    "# subset dataset by emotion rating type (disgusted) and facial expression (angry)\n",
    "da_data = data.loc[(data['emotionRating'] == 'disgusted') & (data['expression'] == 'angry')]\n",
    "da_data.head(10)"
   ]
  },
  {
   "cell_type": "code",
   "execution_count": null,
   "metadata": {},
   "outputs": [],
   "source": [
    "# drop any subjects missing columns in design matrix (otherwise produces error)\n",
    "# none for da"
   ]
  },
  {
   "cell_type": "code",
   "execution_count": null,
   "metadata": {},
   "outputs": [],
   "source": [
    "# define model\n",
    "m_da = hddm.HDDMRegressor(da_data, \"v ~ C(mask)\", bias=True, p_outlier=0.05)"
   ]
  },
  {
   "cell_type": "code",
   "execution_count": null,
   "metadata": {},
   "outputs": [],
   "source": [
    "# run model\n",
    "m_da.sample(5000, burn=200, dbname='traces.db', db='pickle')\n",
    "m_da.print_stats()\n",
    "m_da.plot_posteriors()"
   ]
  },
  {
   "cell_type": "code",
   "execution_count": null,
   "metadata": {},
   "outputs": [],
   "source": [
    "# save model stats\n",
    "da_stats = m_da.gen_stats()\n",
    "print(da_stats)\n",
    "da_stats.to_csv('da_5000/faceMask_hddm_drift_maskFalsePositives_da_5000.csv', index=True)\n",
    "\n",
    "# save model posterior plots\n",
    "m_da.plot_posteriors(path='da_5000/_posteriors', save=True)"
   ]
  },
  {
   "cell_type": "code",
   "execution_count": null,
   "metadata": {},
   "outputs": [],
   "source": [
    "# plot model posteriors by mask\n",
    "da_v_none, da_v_lower, da_v_upper = m_da.nodes_db.node[[\"v_Intercept\", \"v_C(mask)[T.lower]\", \"v_C(mask)[T.upper]\"]]\n",
    "hddm.analyze.plot_posterior_nodes([da_v_none, da_v_lower, da_v_upper])\n",
    "plt.savefig('da_5000/faceMask_hddm_drift_maskFalsePositives_da_5000_v_mask.pdf')"
   ]
  },
  {
   "cell_type": "code",
   "execution_count": null,
   "metadata": {},
   "outputs": [],
   "source": [
    "## estimate probabilities that mask coefficient posteriors differ from 0\n",
    "# note that comparison condition coefficients (i.e. lower/upper) are *relative to* baseline condition (i.e. no mask)\n",
    "# for lower/upper, =0 means no change from baseline, <0 means less than baseline, and >0 means greater than baseline\n",
    "# for no mask, =0 means null drift, <0 means negative drift, and >0 means positive drift\n",
    "print(\"P(da_v_none < 0) = \", (da_v_none.trace() < 0).mean())\n",
    "print(\"P(da_v_lower < 0) = \", (da_v_lower.trace() < 0).mean())\n",
    "print(\"P(da_v_upper > 0) = \", (da_v_upper.trace() > 0).mean())\n",
    "\n",
    "# estimate probability that lower and upper mask coefficient posteriors differ\n",
    "print(\"P(da_v_lower < da_v_upper) = \", (da_v_lower.trace() < da_v_upper.trace()).mean())"
   ]
  },
  {
   "cell_type": "code",
   "execution_count": null,
   "metadata": {},
   "outputs": [],
   "source": [
    "# subset dataset by emotion rating type (disgusted) and facial expression (fearful)\n",
    "df_data = data.loc[(data['emotionRating'] == 'disgusted') & (data['expression'] == 'fearful')]\n",
    "df_data.head(10)"
   ]
  },
  {
   "cell_type": "code",
   "execution_count": null,
   "metadata": {},
   "outputs": [],
   "source": [
    "# drop any subjects missing columns in design matrix (otherwise produces error) \n",
    "df_data = df_data[(df_data.subj_idx != 'jkgqk1co77rw24c') & (df_data.subj_idx != 'me8doxrmo9vj9dx') & (df_data.subj_idx != 'xs5439nm2v85thb')]"
   ]
  },
  {
   "cell_type": "code",
   "execution_count": null,
   "metadata": {},
   "outputs": [],
   "source": [
    "# define model\n",
    "m_df = hddm.HDDMRegressor(df_data, \"v ~ C(mask)\", bias=True, p_outlier=0.05)"
   ]
  },
  {
   "cell_type": "code",
   "execution_count": null,
   "metadata": {},
   "outputs": [],
   "source": [
    "# run model\n",
    "m_df.sample(5000, burn=200, dbname='traces.db', db='pickle')\n",
    "m_df.print_stats()\n",
    "m_df.plot_posteriors()"
   ]
  },
  {
   "cell_type": "code",
   "execution_count": null,
   "metadata": {},
   "outputs": [],
   "source": [
    "# save model stats\n",
    "df_stats = m_df.gen_stats()\n",
    "print(df_stats)\n",
    "df_stats.to_csv('df_5000/faceMask_hddm_drift_maskFalsePositives_df_5000.csv', index=True)\n",
    "\n",
    "# save model posterior plots\n",
    "m_df.plot_posteriors(path='df_5000/_posteriors', save=True)"
   ]
  },
  {
   "cell_type": "code",
   "execution_count": null,
   "metadata": {},
   "outputs": [],
   "source": [
    "# plot model posteriors by mask\n",
    "df_v_none, df_v_lower, df_v_upper = m_df.nodes_db.node[[\"v_Intercept\", \"v_C(mask)[T.lower]\", \"v_C(mask)[T.upper]\"]]\n",
    "hddm.analyze.plot_posterior_nodes([df_v_none, df_v_lower, df_v_upper])\n",
    "plt.savefig('df_5000/faceMask_hddm_drift_maskFalsePositives_df_5000_v_mask.pdf')"
   ]
  },
  {
   "cell_type": "code",
   "execution_count": null,
   "metadata": {},
   "outputs": [],
   "source": [
    "## estimate probabilities that mask coefficient posteriors differ from 0\n",
    "# note that comparison condition coefficients (i.e. lower/upper) are *relative to* baseline condition (i.e. no mask)\n",
    "# for lower/upper, =0 means no change from baseline, <0 means less than baseline, and >0 means greater than baseline\n",
    "# for no mask, =0 means null drift, <0 means negative drift, and >0 means positive drift\n",
    "print(\"P(df_v_none < 0) = \", (df_v_none.trace() < 0).mean())\n",
    "print(\"P(df_v_lower < 0) = \", (df_v_lower.trace() < 0).mean())\n",
    "print(\"P(df_v_upper > 0) = \", (df_v_upper.trace() > 0).mean())\n",
    "\n",
    "# estimate probability that lower and upper mask coefficient posteriors differ\n",
    "print(\"P(df_v_lower < df_v_upper) = \", (df_v_lower.trace() < df_v_upper.trace()).mean())"
   ]
  },
  {
   "cell_type": "code",
   "execution_count": null,
   "metadata": {},
   "outputs": [],
   "source": []
  }
 ],
 "metadata": {
  "anaconda-cloud": {},
  "kernelspec": {
   "display_name": "Python [conda root]",
   "language": "python",
   "name": "conda-root-py"
  },
  "language_info": {
   "codemirror_mode": {
    "name": "ipython",
    "version": 3
   },
   "file_extension": ".py",
   "mimetype": "text/x-python",
   "name": "python",
   "nbconvert_exporter": "python",
   "pygments_lexer": "ipython3",
   "version": "3.7.0"
  }
 },
 "nbformat": 4,
 "nbformat_minor": 1
}
